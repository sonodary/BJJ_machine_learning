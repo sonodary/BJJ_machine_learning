{
 "cells": [
  {
   "cell_type": "markdown",
   "metadata": {},
   "source": [
    "# Loading and Wrangling Data"
   ]
  },
  {
   "cell_type": "markdown",
   "metadata": {},
   "source": [
    "Loading in data using the functions that we made:"
   ]
  },
  {
   "cell_type": "code",
   "execution_count": 1,
   "metadata": {},
   "outputs": [],
   "source": [
    "oneBatch = False"
   ]
  },
  {
   "cell_type": "code",
   "execution_count": 2,
   "metadata": {},
   "outputs": [
    {
     "name": "stdout",
     "output_type": "stream",
     "text": [
      "1\n",
      "2\n",
      "3\n",
      "4\n",
      "5\n",
      "6\n",
      "7\n",
      "8\n",
      "9\n",
      "10\n",
      "11\n",
      "12\n"
     ]
    }
   ],
   "source": [
    "# Run if you want one batch\n",
    "import data_loading as dt\n",
    "import os\n",
    "\n",
    "\n",
    "if oneBatch:\n",
    "    batchNum = 1\n",
    "    if os.path.exists(f'batch{batchNum}/part_{batchNum}/'):\n",
    "        ids, images = dt.importImages(f'batch{batchNum}/part_{batchNum}/')\n",
    "    else:\n",
    "        ids, images = dt.loadImageBatch(batchNum)\n",
    "else:\n",
    "    batchNums = batchNums = list(range(1,13))\n",
    "    exist = True\n",
    "    for batchNum in batchNums:\n",
    "        if not os.path.exists(f'batch{batchNum}/part_{batchNum}/'):\n",
    "            exist = False\n",
    "            break\n",
    "    if exist:\n",
    "        ids, images = dt.importImagesBatches(batchNums)\n",
    "    else:\n",
    "        ids, images = dt.loadImageBatches(batchNums)"
   ]
  },
  {
   "cell_type": "markdown",
   "metadata": {},
   "source": [
    "Getting annotations and getting them into the correct order:"
   ]
  },
  {
   "cell_type": "code",
   "execution_count": 12,
   "metadata": {},
   "outputs": [
    {
     "name": "stdout",
     "output_type": "stream",
     "text": [
      "<class 'numpy.ndarray'>\n"
     ]
    }
   ],
   "source": [
    "print(type(ids))"
   ]
  },
  {
   "cell_type": "code",
   "execution_count": 3,
   "metadata": {},
   "outputs": [
    {
     "data": {
      "text/html": [
       "<div>\n",
       "<style scoped>\n",
       "    .dataframe tbody tr th:only-of-type {\n",
       "        vertical-align: middle;\n",
       "    }\n",
       "\n",
       "    .dataframe tbody tr th {\n",
       "        vertical-align: top;\n",
       "    }\n",
       "\n",
       "    .dataframe thead th {\n",
       "        text-align: right;\n",
       "    }\n",
       "</style>\n",
       "<table border=\"1\" class=\"dataframe\">\n",
       "  <thead>\n",
       "    <tr style=\"text-align: right;\">\n",
       "      <th></th>\n",
       "      <th>position</th>\n",
       "      <th>image</th>\n",
       "    </tr>\n",
       "  </thead>\n",
       "  <tbody>\n",
       "    <tr>\n",
       "      <th>0</th>\n",
       "      <td>standing</td>\n",
       "      <td>1</td>\n",
       "    </tr>\n",
       "    <tr>\n",
       "      <th>1</th>\n",
       "      <td>standing</td>\n",
       "      <td>2</td>\n",
       "    </tr>\n",
       "    <tr>\n",
       "      <th>2</th>\n",
       "      <td>standing</td>\n",
       "      <td>3</td>\n",
       "    </tr>\n",
       "    <tr>\n",
       "      <th>3</th>\n",
       "      <td>standing</td>\n",
       "      <td>4</td>\n",
       "    </tr>\n",
       "    <tr>\n",
       "      <th>4</th>\n",
       "      <td>standing</td>\n",
       "      <td>5</td>\n",
       "    </tr>\n",
       "  </tbody>\n",
       "</table>\n",
       "</div>"
      ],
      "text/plain": [
       "   position  image\n",
       "0  standing      1\n",
       "1  standing      2\n",
       "2  standing      3\n",
       "3  standing      4\n",
       "4  standing      5"
      ]
     },
     "execution_count": 3,
     "metadata": {},
     "output_type": "execute_result"
    }
   ],
   "source": [
    "import pandas as pd\n",
    "annotations = pd.read_csv(\"data/annotations.csv\")\n",
    "annotations.head()"
   ]
  },
  {
   "cell_type": "code",
   "execution_count": 4,
   "metadata": {},
   "outputs": [],
   "source": [
    "position_maps= {\"standing\": 0, \n",
    "                \"takedown1\": 1,\n",
    "                \"takedown2\": 2,\n",
    "                \"open_guard1\": 3,\n",
    "                \"open_guard2\": 4,\n",
    "                \"half_guard1\": 5,\n",
    "                \"half_guard2\": 6,\n",
    "                \"closed_guard1\": 7,\n",
    "                \"closed_guard2\": 8,\n",
    "                \"5050_guard\": 9,\n",
    "                \"mount1\": 10,\n",
    "                \"mount2\": 11,\n",
    "                \"back1\": 12,\n",
    "                \"back2\": 13,\n",
    "                \"turtle1\": 14,\n",
    "                \"turtle2\": 15,               \n",
    "                \"side_control1\" : 16,\n",
    "                \"side_control2\" : 17}\n",
    "\n",
    "\n",
    "labels = []\n",
    "for id in ids:\n",
    "    labels.append(position_maps[annotations[annotations['image'] == id]['position'].reset_index(drop=True)[0]])"
   ]
  },
  {
   "cell_type": "code",
   "execution_count": null,
   "metadata": {},
   "outputs": [],
   "source": [
    "labels[0:20]"
   ]
  },
  {
   "cell_type": "markdown",
   "metadata": {},
   "source": [
    "Converting images to tensors:"
   ]
  },
  {
   "cell_type": "code",
   "execution_count": 5,
   "metadata": {},
   "outputs": [],
   "source": [
    "import torch\n",
    "import numpy as np\n",
    "\n",
    "# Converting into torch tensors\n",
    "for i, img in enumerate(images):\n",
    "    images[i] = torch.from_numpy(np.array(img))"
   ]
  },
  {
   "cell_type": "markdown",
   "metadata": {},
   "source": [
    "# Convolutional Neural Net"
   ]
  },
  {
   "cell_type": "markdown",
   "metadata": {},
   "source": [
    "## Creating Neural Net"
   ]
  },
  {
   "cell_type": "code",
   "execution_count": 6,
   "metadata": {},
   "outputs": [
    {
     "name": "stdout",
     "output_type": "stream",
     "text": [
      "Parameter containing:\n",
      "tensor([[ 3.4923e-03, -3.0120e-02,  1.5921e-02,  ..., -1.9505e-02,\n",
      "         -2.0996e-03,  3.3701e-02],\n",
      "        [ 1.1098e-05,  2.3215e-02,  2.8633e-02,  ...,  1.6767e-02,\n",
      "         -3.5529e-02,  3.3584e-02],\n",
      "        [ 1.0616e-02,  3.2056e-02, -4.7595e-02,  ...,  4.7228e-02,\n",
      "         -1.9226e-03, -1.2700e-02],\n",
      "        ...,\n",
      "        [ 1.4529e-02,  2.1283e-02, -2.2148e-02,  ...,  4.8218e-02,\n",
      "          1.7195e-02, -3.5741e-02],\n",
      "        [-2.8373e-02, -4.7629e-02,  2.8995e-02,  ...,  8.5895e-04,\n",
      "         -1.2259e-02,  2.2470e-02],\n",
      "        [-8.0511e-03, -2.4243e-02,  3.1586e-02,  ..., -4.8393e-03,\n",
      "         -2.9083e-02,  4.7473e-02]], requires_grad=True)\n",
      "Parameter containing:\n",
      "tensor([ 1.0246e-02, -1.1154e-02,  2.9575e-02, -2.9340e-02,  3.4560e-02,\n",
      "        -4.4570e-02, -3.4269e-02, -1.0834e-03,  3.6994e-02,  2.9584e-02,\n",
      "         2.2993e-02,  1.9866e-02, -1.8745e-02,  1.9368e-02,  1.8767e-02,\n",
      "         4.5089e-02, -4.8918e-02,  2.4240e-05], requires_grad=True)\n"
     ]
    }
   ],
   "source": [
    "# Data argumentation\n",
    "from torchvision import transforms\n",
    "data_transforms = transforms.Compose([\n",
    "        transforms.GaussianBlur(kernel_size=(3,3), sigma=(0.1, 5)),\n",
    "        transforms.RandomHorizontalFlip(),\n",
    "        transforms.RandomRotation(degrees=(0, 180))\n",
    "])\n",
    "\n",
    "# CNN\n",
    "from torch import nn\n",
    "import torchvision\n",
    "# class my_net(nn.Modul]e):\n",
    "    \n",
    "#     ## Constructor commands\n",
    "#     def __init__(self):\n",
    "#         super(my_net, self).__init__()\n",
    "        \n",
    "#         ## Define architecture\n",
    "#         self.conv_stack = nn.Sequential(\n",
    "#             nn.Conv2d(3,8,3,1),\n",
    "#             nn.ReLU(),\n",
    "#             nn.MaxPool2d(2,2),\n",
    "#             nn.Conv2d(8,16,2,1),\n",
    "#             nn.ReLU(),\n",
    "#             nn.MaxPool2d(2,2),\n",
    "#             nn.Flatten(),\n",
    "#             nn.Linear(3600, 200),\n",
    "#             nn.ReLU(),\n",
    "#             nn.Linear(200, 18)\n",
    "#         )\n",
    "    \n",
    "#     ## Function to generate predictions\n",
    "#     def forward(self, x):\n",
    "#         scores = self.conv_stack(x)\n",
    "#         return scores\n",
    "\n",
    "\n",
    "# Transfer Learnin\n",
    "regnet_weights = torchvision.models.RegNet_X_400MF_Weights.IMAGENET1K_V2\n",
    "regnet_model = torchvision.models.regnet_x_400mf(weights = regnet_weights)\n",
    "torch.manual_seed(7) # For reproduction purposes (should be minor since only the last layers are randomly intialized)\n",
    "\n",
    "\n",
    "# print(net)\n",
    "for param in regnet_model.parameters():\n",
    "    # print(param)\n",
    "    param.requires_grad = True\n",
    "# print(net)\n",
    "regnet_model.classifier = torch.nn.Sequential( \n",
    "    torch.nn.Linear(in_features=400, out_features=18, bias=True))\n",
    "# print(regnet_model.classifier[0].parameters())\n",
    "for param in regnet_model.classifier[0].parameters():\n",
    "    print(param)\n",
    "    param.requires_grad = True\n",
    "\n",
    "net = regnet_model\n",
    "\n",
    "lrate = 0.001\n",
    "optimizer = torch.optim.Adam(net.parameters(), lr=lrate)"
   ]
  },
  {
   "cell_type": "code",
   "execution_count": null,
   "metadata": {},
   "outputs": [],
   "source": [
    "print(regnet_model.classifier)"
   ]
  },
  {
   "cell_type": "markdown",
   "metadata": {},
   "source": [
    "## Training Neural Net"
   ]
  },
  {
   "cell_type": "markdown",
   "metadata": {},
   "source": [
    "Train-test split:"
   ]
  },
  {
   "cell_type": "code",
   "execution_count": 7,
   "metadata": {},
   "outputs": [],
   "source": [
    "from sklearn.model_selection import train_test_split\n",
    "train_X, test_X, train_y, test_y = train_test_split(\n",
    "    images, labels, test_size=0.25, random_state=42)\n",
    "\n",
    "train_X = torch.from_numpy(train_X)\n",
    "train_X = torch.movedim(train_X, source=3, destination=1)\n",
    "\n",
    "test_X = torch.from_numpy(test_X)\n",
    "test_X = torch.movedim(test_X, source=3, destination=1)"
   ]
  },
  {
   "cell_type": "code",
   "execution_count": 8,
   "metadata": {},
   "outputs": [
    {
     "name": "stdout",
     "output_type": "stream",
     "text": [
      "0.0\n",
      "0.006666666666666667\n",
      "0.013333333333333334\n",
      "0.02\n",
      "0.02666666666666667\n",
      "0.03333333333333333\n",
      "0.04\n",
      "0.04666666666666667\n",
      "0.05333333333333334\n",
      "0.06\n",
      "0.06666666666666667\n",
      "0.07333333333333333\n",
      "0.08\n",
      "0.08666666666666667\n",
      "0.09333333333333334\n",
      "0.1\n",
      "0.10666666666666667\n",
      "0.11333333333333333\n",
      "0.12\n",
      "0.12666666666666668\n",
      "0.13333333333333333\n",
      "0.14\n",
      "0.14666666666666667\n",
      "0.15333333333333332\n",
      "0.16\n",
      "0.16666666666666666\n",
      "0.17333333333333334\n",
      "0.18\n",
      "0.18666666666666668\n",
      "0.19333333333333333\n",
      "0.2\n",
      "0.20666666666666667\n",
      "0.21333333333333335\n",
      "0.22\n",
      "0.22666666666666666\n",
      "0.23333333333333334\n",
      "0.24\n",
      "0.24666666666666667\n",
      "0.25333333333333335\n",
      "0.26\n",
      "0.26666666666666666\n",
      "0.2733333333333333\n",
      "0.28\n",
      "0.2866666666666667\n",
      "0.29333333333333333\n",
      "0.3\n",
      "0.30666666666666664\n",
      "0.31333333333333335\n",
      "0.32\n",
      "0.32666666666666666\n",
      "0.3333333333333333\n",
      "0.34\n",
      "0.3466666666666667\n",
      "0.35333333333333333\n",
      "0.36\n",
      "0.36666666666666664\n",
      "0.37333333333333335\n",
      "0.38\n",
      "0.38666666666666666\n",
      "0.3933333333333333\n",
      "0.4\n",
      "0.4066666666666667\n",
      "0.41333333333333333\n",
      "0.42\n",
      "0.4266666666666667\n",
      "0.43333333333333335\n",
      "0.44\n",
      "0.44666666666666666\n",
      "0.4533333333333333\n",
      "0.46\n",
      "0.4666666666666667\n",
      "0.47333333333333333\n",
      "0.48\n",
      "0.4866666666666667\n",
      "0.49333333333333335\n",
      "0.5\n",
      "0.5066666666666667\n",
      "0.5133333333333333\n",
      "0.52\n",
      "0.5266666666666666\n",
      "0.5333333333333333\n",
      "0.54\n",
      "0.5466666666666666\n",
      "0.5533333333333333\n",
      "0.56\n",
      "0.5666666666666667\n",
      "0.5733333333333334\n",
      "0.58\n",
      "0.5866666666666667\n",
      "0.5933333333333334\n",
      "0.6\n",
      "0.6066666666666667\n",
      "0.6133333333333333\n",
      "0.62\n",
      "0.6266666666666667\n",
      "0.6333333333333333\n",
      "0.64\n",
      "0.6466666666666666\n",
      "0.6533333333333333\n",
      "0.66\n",
      "0.6666666666666666\n",
      "0.6733333333333333\n",
      "0.68\n",
      "0.6866666666666666\n",
      "0.6933333333333334\n",
      "0.7\n",
      "0.7066666666666667\n",
      "0.7133333333333334\n",
      "0.72\n",
      "0.7266666666666667\n",
      "0.7333333333333333\n",
      "0.74\n",
      "0.7466666666666667\n",
      "0.7533333333333333\n",
      "0.76\n",
      "0.7666666666666667\n",
      "0.7733333333333333\n",
      "0.78\n",
      "0.7866666666666666\n",
      "0.7933333333333333\n",
      "0.8\n",
      "0.8066666666666666\n",
      "0.8133333333333334\n",
      "0.82\n",
      "0.8266666666666667\n",
      "0.8333333333333334\n",
      "0.84\n",
      "0.8466666666666667\n",
      "0.8533333333333334\n",
      "0.86\n",
      "0.8666666666666667\n",
      "0.8733333333333333\n",
      "0.88\n",
      "0.8866666666666667\n",
      "0.8933333333333333\n",
      "0.9\n",
      "0.9066666666666666\n",
      "0.9133333333333333\n",
      "0.92\n",
      "0.9266666666666666\n",
      "0.9333333333333333\n",
      "0.94\n",
      "0.9466666666666667\n",
      "0.9533333333333334\n",
      "0.96\n",
      "0.9666666666666667\n",
      "0.9733333333333334\n",
      "0.98\n",
      "0.9866666666666667\n",
      "0.9933333333333333\n"
     ]
    }
   ],
   "source": [
    "## Hyperparms\n",
    "epochs = 150\n",
    "lrate = 0.00001\n",
    "bsize = 32\n",
    "\n",
    "## For reproduction purposes \n",
    "torch.manual_seed(3)\n",
    "\n",
    "## Cost Function\n",
    "cost_fn = nn.CrossEntropyLoss()\n",
    "\n",
    "\n",
    "## Make DataLoader\n",
    "from torch.utils.data import DataLoader, TensorDataset\n",
    "y_tensor = torch.Tensor(train_y)\n",
    "train_loader = DataLoader(TensorDataset(train_X.type(torch.FloatTensor), \n",
    "                        y_tensor.type(torch.LongTensor)), batch_size=bsize)\n",
    "\n",
    "## Re-run the training loop, notice the new data_transforms() command\n",
    "track_cost = np.zeros(epochs)\n",
    "cur_cost = 0.0\n",
    "\n",
    "# If this does not work, comment this and uncomment the below\n",
    "for epoch in range(epochs):\n",
    "    cur_cost = 0.0\n",
    "\n",
    "    for i, (inputs, labels) in enumerate(train_loader):\n",
    "        # Transform the input data using our data augmentation strategies\n",
    "        inputs = data_transforms(inputs)\n",
    "\n",
    "        # Forward, backward, and optimize\n",
    "        optimizer.zero_grad()\n",
    "        outputs = net(inputs)\n",
    "        cost = cost_fn(outputs, labels)  # CrossEntropyLoss already applies Softmax\n",
    "        cost.backward()\n",
    "        optimizer.step()\n",
    "\n",
    "        cur_cost += cost.item()\n",
    "\n",
    "    # Store the accumulated cost at each epoch\n",
    "    track_cost[epoch] = cur_cost\n",
    "    print(epoch/epochs)\n",
    "    #print(f\"Epoch: {epoch} Cost: {cur_cost}\")\n",
    "\n",
    "# for epoch in range(epochs):\n",
    "#     cur_cost = 0.0\n",
    "#     correct = 0.0\n",
    "    \n",
    "#     for i, data in enumerate(train_loader, 0):\n",
    "#         inputs, labels = data\n",
    "        \n",
    "#         ## Transform the input data using our data augmentation strategies\n",
    "#         # inputs = data_transforms(inputs)\n",
    "        \n",
    "#         inputs = data_transforms(inputs)\n",
    "        \n",
    "#         ## Same as before\n",
    "#         optimizer.zero_grad()\n",
    "#         outputs = net(inputs)\n",
    "#         cost = cost_fn(nn.Softmax(dim=1)(outputs), labels)\n",
    "#         cost.backward()\n",
    "#         optimizer.step()\n",
    "#         cur_cost += cost.item()\n",
    "    \n",
    "#     ## Store the accumulated cost at each epoch\n",
    "#     track_cost[epoch] = cur_cost\n",
    "#     print(\"epoch: \", epoch)\n",
    "#     print(\"cost: \", cur_cost)\n",
    "# #     print(f\"Epoch: {epoch} Cost: {cur_cost}\") ## Uncomment this if you want printed updates\n",
    "    \n",
    "    "
   ]
  },
  {
   "cell_type": "markdown",
   "metadata": {},
   "source": [
    "Calculating training accuracy:"
   ]
  },
  {
   "cell_type": "code",
   "execution_count": 9,
   "metadata": {},
   "outputs": [
    {
     "name": "stdout",
     "output_type": "stream",
     "text": [
      "Training Accuracy is 0.9923691816521749\n"
     ]
    }
   ],
   "source": [
    "## Initialize objects for counting correct/total \n",
    "correct = 0\n",
    "total = 0\n",
    "\n",
    "# Specify no changes to the gradient in the subsequent steps (since we're not using these data for training)\n",
    "with torch.no_grad():\n",
    "    for data in train_loader:\n",
    "        # Current batch of data\n",
    "        images, labels = data\n",
    "        \n",
    "        # pass each batch into the network\n",
    "        outputs = net(images)\n",
    "        \n",
    "        # the class with the maximum score is what we choose as prediction\n",
    "        _, predicted = torch.max(outputs.data, 1)\n",
    "        \n",
    "        # add size of the current batch\n",
    "        total += labels.size(0)\n",
    "        \n",
    "        # add the number of correct predictions in the current batch\n",
    "        correct += (predicted == labels).sum().item()\n",
    "\n",
    "## Calculate and print the proportion correct\n",
    "print(f\"Training Accuracy is {correct/total}\")"
   ]
  },
  {
   "cell_type": "markdown",
   "metadata": {},
   "source": [
    "Calculating testing accuracy:"
   ]
  },
  {
   "cell_type": "code",
   "execution_count": 10,
   "metadata": {},
   "outputs": [
    {
     "name": "stdout",
     "output_type": "stream",
     "text": [
      "Test Accuracy is 0.9871571615150196\n"
     ]
    }
   ],
   "source": [
    "\n",
    "## Combine X and y tensors into a TensorDataset and DataLoader\n",
    "test_loader = DataLoader(TensorDataset(test_X.type(torch.FloatTensor), \n",
    "                        torch.Tensor(test_y).type(torch.LongTensor)), batch_size=bsize)\n",
    "\n",
    "## Initialize objects for counting correct/total \n",
    "correct = 0\n",
    "total = 0\n",
    "\n",
    "# Specify no changes to the gradient in the subsequent steps (since we're not using these data for training)\n",
    "with torch.no_grad():\n",
    "    for data in test_loader:\n",
    "        # Current batch of data\n",
    "        images, labels = data\n",
    "        \n",
    "        # pass each batch into the network\n",
    "        outputs = net(images)\n",
    "        \n",
    "        # the class with the maximum score is what we choose as prediction\n",
    "        _, predicted = torch.max(outputs.data, 1)\n",
    "        \n",
    "        # add size of the current batch\n",
    "        total += labels.size(0)\n",
    "        \n",
    "        # add the number of correct predictions in the current batch\n",
    "        correct += (predicted == labels).sum().item()\n",
    "\n",
    "## Calculate and print the proportion correct\n",
    "print(f\"Test Accuracy is {correct/total}\")"
   ]
  },
  {
   "cell_type": "code",
   "execution_count": 11,
   "metadata": {},
   "outputs": [
    {
     "data": {
      "image/png": "[encoded data removed]",
      "text/plain": [
       "<Figure size 640x480 with 1 Axes>"
      ]
     },
     "metadata": {},
     "output_type": "display_data"
    }
   ],
   "source": [
    "# verifying the convergence of cost\n",
    "import matplotlib.pyplot as plt\n",
    "plt.plot(np.linspace(0, epochs, epochs), track_cost)\n",
    "plt.show()"
   ]
  },
  {
   "cell_type": "code",
   "execution_count": 12,
   "metadata": {},
   "outputs": [],
   "source": [
    "torch.save(net.state_dict(), 'RegNet_fine_tuning_weights.pth')"
   ]
  }
 ],
 "metadata": {
  "kernelspec": {
   "display_name": "Python 3 (ipykernel)",
   "language": "python",
   "name": "python3"
  },
  "language_info": {
   "codemirror_mode": {
    "name": "ipython",
    "version": 3
   },
   "file_extension": ".py",
   "mimetype": "text/x-python",
   "name": "python",
   "nbconvert_exporter": "python",
   "pygments_lexer": "ipython3",
   "version": "3.10.9"
  }
 },
 "nbformat": 4,
 "nbformat_minor": 4
}
