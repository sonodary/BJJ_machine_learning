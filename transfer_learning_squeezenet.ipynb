{
 "cells": [
  {
   "cell_type": "markdown",
   "metadata": {},
   "source": [
    "# Loading and Wrangling Data"
   ]
  },
  {
   "cell_type": "markdown",
   "metadata": {},
   "source": [
    "Loading in data using the functions that we made:"
   ]
  },
  {
   "cell_type": "code",
   "execution_count": 1,
   "metadata": {},
   "outputs": [],
   "source": [
    "oneBatch = True"
   ]
  },
  {
   "cell_type": "code",
   "execution_count": 2,
   "metadata": {},
   "outputs": [],
   "source": [
    "# Run if you want one batch\n",
    "import data_loading as dt\n",
    "import os\n",
    "\n",
    "\n",
    "if oneBatch:\n",
    "    batchNum = 1\n",
    "    if os.path.exists(f'batch{batchNum}/part_{batchNum}/'):\n",
    "        ids, images = dt.importImages(f'batch{batchNum}/part_{batchNum}/')\n",
    "    else:\n",
    "        ids, images = dt.loadImageBatch(batchNum)\n",
    "else:\n",
    "    batchNums = list(range(1,13))\n",
    "    ids, images = dt.loadImageBatches(batchNums)"
   ]
  },
  {
   "cell_type": "markdown",
   "metadata": {},
   "source": [
    "Getting annotations and getting them into the correct order:"
   ]
  },
  {
   "cell_type": "code",
   "execution_count": 3,
   "metadata": {},
   "outputs": [
    {
     "data": {
      "text/html": [
       "<div>\n",
       "<style scoped>\n",
       "    .dataframe tbody tr th:only-of-type {\n",
       "        vertical-align: middle;\n",
       "    }\n",
       "\n",
       "    .dataframe tbody tr th {\n",
       "        vertical-align: top;\n",
       "    }\n",
       "\n",
       "    .dataframe thead th {\n",
       "        text-align: right;\n",
       "    }\n",
       "</style>\n",
       "<table border=\"1\" class=\"dataframe\">\n",
       "  <thead>\n",
       "    <tr style=\"text-align: right;\">\n",
       "      <th></th>\n",
       "      <th>position</th>\n",
       "      <th>image</th>\n",
       "    </tr>\n",
       "  </thead>\n",
       "  <tbody>\n",
       "    <tr>\n",
       "      <th>0</th>\n",
       "      <td>standing</td>\n",
       "      <td>1</td>\n",
       "    </tr>\n",
       "    <tr>\n",
       "      <th>1</th>\n",
       "      <td>standing</td>\n",
       "      <td>2</td>\n",
       "    </tr>\n",
       "    <tr>\n",
       "      <th>2</th>\n",
       "      <td>standing</td>\n",
       "      <td>3</td>\n",
       "    </tr>\n",
       "    <tr>\n",
       "      <th>3</th>\n",
       "      <td>standing</td>\n",
       "      <td>4</td>\n",
       "    </tr>\n",
       "    <tr>\n",
       "      <th>4</th>\n",
       "      <td>standing</td>\n",
       "      <td>5</td>\n",
       "    </tr>\n",
       "  </tbody>\n",
       "</table>\n",
       "</div>"
      ],
      "text/plain": [
       "   position  image\n",
       "0  standing      1\n",
       "1  standing      2\n",
       "2  standing      3\n",
       "3  standing      4\n",
       "4  standing      5"
      ]
     },
     "execution_count": 3,
     "metadata": {},
     "output_type": "execute_result"
    }
   ],
   "source": [
    "import pandas as pd\n",
    "annotations = pd.read_csv(\"data/annotations.csv\")\n",
    "annotations.head()"
   ]
  },
  {
   "cell_type": "code",
   "execution_count": 4,
   "metadata": {},
   "outputs": [],
   "source": [
    "position_maps= {\"standing\": 0, \n",
    "                \"takedown1\": 1,\n",
    "                \"takedown2\": 2,\n",
    "                \"open_guard1\": 3,\n",
    "                \"open_guard2\": 4,\n",
    "                \"half_guard1\": 5,\n",
    "                \"half_guard2\": 6,\n",
    "                \"closed_guard1\": 7,\n",
    "                \"closed_guard2\": 8,\n",
    "                \"5050_guard\": 9,\n",
    "                \"mount1\": 10,\n",
    "                \"mount2\": 11,\n",
    "                \"back1\": 12,\n",
    "                \"back2\": 13,\n",
    "                \"turtle1\": 14,\n",
    "                \"turtle2\": 15,               \n",
    "                \"side_control1\" : 16,\n",
    "                \"side_control2\" : 17}\n",
    "\n",
    "\n",
    "labels = []\n",
    "for id in ids:\n",
    "    labels.append(position_maps[annotations[annotations['image'] == id]['position'].reset_index(drop=True)[0]])"
   ]
  },
  {
   "cell_type": "code",
   "execution_count": 5,
   "metadata": {},
   "outputs": [
    {
     "data": {
      "text/plain": [
       "[3, 8, 7, 3, 4, 3, 4, 3, 3, 3, 8, 7, 3, 8, 7, 3, 3, 4, 4, 3]"
      ]
     },
     "execution_count": 5,
     "metadata": {},
     "output_type": "execute_result"
    }
   ],
   "source": [
    "labels[0:20]"
   ]
  },
  {
   "cell_type": "markdown",
   "metadata": {},
   "source": [
    "Converting images to tensors:"
   ]
  },
  {
   "cell_type": "code",
   "execution_count": 6,
   "metadata": {},
   "outputs": [],
   "source": [
    "import torch\n",
    "import numpy as np\n",
    "\n",
    "# Converting into torch tensors\n",
    "for i, img in enumerate(images):\n",
    "    images[i] = torch.from_numpy(np.array(img))"
   ]
  },
  {
   "attachments": {},
   "cell_type": "markdown",
   "metadata": {},
   "source": [
    "# Convolutional Neural Net: Transfer Learning Squeeze Net"
   ]
  },
  {
   "cell_type": "markdown",
   "metadata": {},
   "source": [
    "## Creating Neural Net"
   ]
  },
  {
   "cell_type": "code",
   "execution_count": 7,
   "metadata": {},
   "outputs": [],
   "source": [
    "# Data argumentation\n",
    "# from torchvision import transforms\n",
    "# data_transforms = transforms.Compose([\n",
    "#         transforms.GaussianBlur(kernel_size=(3,3), sigma=(0.1, 5)),\n",
    "#         transforms.RandomHorizontalFlip(),\n",
    "#         transforms.RandomRotation(degrees=(0, 180))\n",
    "# ])\n",
    "\n",
    "# # CNN\n",
    "# from torch import nn\n",
    "# import torchvision\n",
    "\n",
    "# # Transfer Learnin\n",
    "# regnet_weights = torchvision.models.RegNet_X_400MF_Weights.IMAGENET1K_V2\n",
    "# regnet_model = torchvision.models.regnet_x_400mf(weights = regnet_weights)\n",
    "# regnet_model.classifier = torch.nn.Sequential( \n",
    "#     torch.nn.Linear(in_features=1000, out_features=18, bias=True))\n",
    "# torch.manual_seed(7) # For reproduction purposes (should be minor since only the last layers are randomly intialized)\n",
    "# net = regnet_model\n",
    "# lrate = 0.001\n",
    "# optimizer = torch.optim.Adam(net.parameters(), lr=lrate)\n",
    "\n",
    "# # print(net)\n",
    "# for param in net.features.parameters():\n",
    "#     param.requires_grad = True"
   ]
  },
  {
   "cell_type": "code",
   "execution_count": 8,
   "metadata": {},
   "outputs": [],
   "source": [
    "# Data argumentation\n",
    "from torchvision import transforms\n",
    "data_transforms = transforms.Compose([\n",
    "        transforms.GaussianBlur(kernel_size=(3,3), sigma=(0.1, 5)),\n",
    "        transforms.RandomHorizontalFlip(),\n",
    "        transforms.RandomRotation(degrees=(0, 180))\n",
    "])"
   ]
  },
  {
   "cell_type": "code",
   "execution_count": 15,
   "metadata": {},
   "outputs": [],
   "source": [
    "import torch\n",
    "import torch.nn as nn\n",
    "import torch.optim as optim\n",
    "import torchvision.models as models\n",
    "\n",
    "# Define the modified SqueezeNet model\n",
    "class MySqueezeNet(nn.Module):\n",
    "    def __init__(self, num_classes):\n",
    "        super(MySqueezeNet, self).__init__()\n",
    "        self.squeezenet = models.squeezenet1_1(pretrained=False)\n",
    "        self.num_classes = num_classes\n",
    "        # self.squeezenet.classifier[1] = torch.nn.Sequential(\n",
    "        #     nn.Conv2d(512, 256, 3, 1),\n",
    "        #     nn.ReLU(),\n",
    "        #     nn.Conv2d(256, 18, 1, 1)\n",
    "        # )\n",
    "    \n",
    "        self.squeezenet.num_classes = self.num_classes\n",
    "        self.classifier = nn.Sequential(\n",
    "            nn.Conv2d(1000, 512, 1, 1),\n",
    "            nn.ReLU(),\n",
    "            nn.Conv2d(512, self.num_classes, 1, 1)\n",
    "        )\n",
    "\n",
    "    def forward(self, x):\n",
    "        x = self.squeezenet.features(x)\n",
    "        x = self.squeezenet.classifier(x)\n",
    "        x = self.classifier(x)\n",
    "\n",
    "        return x.view(x.size(0), self.num_classes)\n",
    "\n",
    "# Create an instance of the modified SqueezeNet model\n",
    "squeeze_model = MySqueezeNet(num_classes=18)\n",
    "state_dict = torch.load('weights/squeezenet1_1-f364aa15.pth')\n",
    "\n",
    "# Copy the weights from the pre-trained model to the modified model\n",
    "pretrained_dict = {k: v for k, v in state_dict.items() if k.startswith('features') or k.startswith('classifier.0')}\n",
    "model_dict = squeeze_model.squeezenet.state_dict()\n",
    "model_dict.update(pretrained_dict)\n",
    "squeeze_model.squeezenet.load_state_dict(model_dict)\n",
    "\n",
    "# Freeze the parameters of the pre-trained layers\n",
    "for param in squeeze_model.squeezenet.parameters():\n",
    "    param.requires_grad = False\n",
    "    \n",
    "# for param in squeeze_model.squeezenet.classifier[1].parameters():\n",
    "#     param.requires_grad = True\n",
    "\n",
    "# Define the optimizer for the new fully connected layer\n",
    "lrate = 0.001\n",
    "# optimizer = optim.Adam(squeeze_model.squeezenet.classifier[1].parameters(), lr=lrate)\n",
    "optimizer = optim.Adam(squeeze_model.classifier.parameters(), lr=lrate)\n"
   ]
  },
  {
   "cell_type": "markdown",
   "metadata": {},
   "source": [
    "## Training Neural Net"
   ]
  },
  {
   "cell_type": "markdown",
   "metadata": {},
   "source": [
    "Train-test split:"
   ]
  },
  {
   "cell_type": "code",
   "execution_count": 10,
   "metadata": {},
   "outputs": [],
   "source": [
    "from sklearn.model_selection import train_test_split\n",
    "train_X, test_X, train_y, test_y = train_test_split(\n",
    "    images, labels, test_size=0.25, random_state=42)\n",
    "\n",
    "train_X = torch.from_numpy(train_X)\n",
    "train_X = torch.movedim(train_X, source=3, destination=1)\n",
    "\n",
    "test_X = torch.from_numpy(test_X)\n",
    "test_X = torch.movedim(test_X, source=3, destination=1)"
   ]
  },
  {
   "cell_type": "code",
   "execution_count": 16,
   "metadata": {},
   "outputs": [
    {
     "name": "stdout",
     "output_type": "stream",
     "text": [
      "0.0 Epoch: 0 Cost: 18481.491540193558\n",
      "0.1 Epoch: 1 Cost: 548.7083978652954\n",
      "0.2 Epoch: 2 Cost: 483.71445631980896\n",
      "0.3 Epoch: 3 Cost: 446.6028083562851\n",
      "0.4 Epoch: 4 Cost: 421.1401273012161\n",
      "0.5 Epoch: 5 Cost: 404.04151582717896\n",
      "0.6 Epoch: 6 Cost: 391.16039288043976\n",
      "0.7 Epoch: 7 Cost: 381.41526770591736\n",
      "0.8 Epoch: 8 Cost: 373.8532793521881\n",
      "0.9 Epoch: 9 Cost: 367.8862934112549\n"
     ]
    }
   ],
   "source": [
    "from torch.utils.data import DataLoader, TensorDataset\n",
    "\n",
    "# Hyperparameters\n",
    "epochs = 10\n",
    "lrate = 0.01\n",
    "bsize = 32\n",
    "\n",
    "# For reproducibility\n",
    "torch.manual_seed(3)\n",
    "\n",
    "# Cost Function\n",
    "cost_fn = nn.CrossEntropyLoss()\n",
    "\n",
    "# Initialize the model\n",
    "net = squeeze_model\n",
    "\n",
    "# Optimizer (Stochastic Gradient Descent)\n",
    "optimizer = torch.optim.SGD(net.parameters(), lr=lrate)\n",
    "\n",
    "# Make DataLoader\n",
    "y_tensor = torch.Tensor(train_y)\n",
    "train_loader = DataLoader(TensorDataset(train_X.type(torch.FloatTensor),\n",
    "                                        y_tensor.type(torch.LongTensor)), batch_size=bsize)\n",
    "\n",
    "# Training loop\n",
    "track_cost = np.zeros(epochs)\n",
    "\n",
    "for epoch in range(epochs):\n",
    "    cur_cost = 0.0\n",
    "\n",
    "    for i, (inputs, labels) in enumerate(train_loader):\n",
    "        # Transform the input data using our data augmentation strategies\n",
    "        inputs = data_transforms(inputs)\n",
    "\n",
    "        # Forward, backward, and optimize\n",
    "        optimizer.zero_grad()\n",
    "        outputs = net(inputs)\n",
    "        cost = cost_fn(outputs, labels)  # CrossEntropyLoss already applies Softmax\n",
    "        cost.backward()\n",
    "        optimizer.step()\n",
    "\n",
    "        cur_cost += cost.item()\n",
    "\n",
    "    # Store the accumulated cost at each epoch\n",
    "    track_cost[epoch] = cur_cost\n",
    "    print(epoch/epochs, f\"Epoch: {epoch} Cost: {cur_cost}\")\n",
    "    "
   ]
  },
  {
   "cell_type": "markdown",
   "metadata": {},
   "source": [
    "Calculating training accuracy:"
   ]
  },
  {
   "cell_type": "code",
   "execution_count": 17,
   "metadata": {},
   "outputs": [
    {
     "name": "stdout",
     "output_type": "stream",
     "text": [
      "Training Accuracy is 0.3884011705240756\n"
     ]
    }
   ],
   "source": [
    "## Initialize objects for counting correct/total \n",
    "correct = 0\n",
    "total = 0\n",
    "\n",
    "# Specify no changes to the gradient in the subsequent steps (since we're not using these data for training)\n",
    "with torch.no_grad():\n",
    "    for data in train_loader:\n",
    "        # Current batch of data\n",
    "        images, labels = data\n",
    "        \n",
    "        # pass each batch into the network\n",
    "        outputs = net(images)\n",
    "        \n",
    "        # the class with the maximum score is what we choose as prediction\n",
    "        _, predicted = torch.max(outputs.data, 1)\n",
    "        \n",
    "        # add size of the current batch\n",
    "        total += labels.size(0)\n",
    "        \n",
    "        # add the number of correct predictions in the current batch\n",
    "        correct += (predicted == labels).sum().item()\n",
    "\n",
    "## Calculate and print the proportion correct\n",
    "print(f\"Training Accuracy is {correct/total}\")"
   ]
  },
  {
   "cell_type": "markdown",
   "metadata": {},
   "source": [
    "Calculating testing accuracy:"
   ]
  },
  {
   "cell_type": "code",
   "execution_count": 18,
   "metadata": {},
   "outputs": [
    {
     "name": "stdout",
     "output_type": "stream",
     "text": [
      "Test Accuracy is 0.36671987230646447\n"
     ]
    }
   ],
   "source": [
    "\n",
    "## Combine X and y tensors into a TensorDataset and DataLoader\n",
    "test_loader = DataLoader(TensorDataset(test_X.type(torch.FloatTensor), \n",
    "                        torch.Tensor(test_y).type(torch.LongTensor)), batch_size=bsize)\n",
    "\n",
    "## Initialize objects for counting correct/total \n",
    "correct = 0\n",
    "total = 0\n",
    "\n",
    "# Specify no changes to the gradient in the subsequent steps (since we're not using these data for training)\n",
    "with torch.no_grad():\n",
    "    for data in test_loader:\n",
    "        # Current batch of data\n",
    "        images, labels = data\n",
    "        \n",
    "        # pass each batch into the network\n",
    "        outputs = net(images)\n",
    "        \n",
    "        # the class with the maximum score is what we choose as prediction\n",
    "        _, predicted = torch.max(outputs.data, 1)\n",
    "        \n",
    "        # add size of the current batch\n",
    "        total += labels.size(0)\n",
    "        \n",
    "        # add the number of correct predictions in the current batch\n",
    "        correct += (predicted == labels).sum().item()\n",
    "\n",
    "## Calculate and print the proportion correct\n",
    "print(f\"Test Accuracy is {correct/total}\")"
   ]
  },
  {
   "cell_type": "code",
   "execution_count": 19,
   "metadata": {},
   "outputs": [
    {
     "data": {
      "image/png": "[encoded data removed]",
      "text/plain": [
       "<Figure size 640x480 with 1 Axes>"
      ]
     },
     "metadata": {},
     "output_type": "display_data"
    }
   ],
   "source": [
    "# verifying the convergence of cost\n",
    "import matplotlib.pyplot as plt\n",
    "plt.plot(np.linspace(0, epochs, epochs), track_cost)\n",
    "plt.show()"
   ]
  }
 ],
 "metadata": {
  "kernelspec": {
   "display_name": "Python 3 (ipykernel)",
   "language": "python",
   "name": "python3"
  },
  "language_info": {
   "codemirror_mode": {
    "name": "ipython",
    "version": 3
   },
   "file_extension": ".py",
   "mimetype": "text/x-python",
   "name": "python",
   "nbconvert_exporter": "python",
   "pygments_lexer": "ipython3",
   "version": "3.11.2"
  }
 },
 "nbformat": 4,
 "nbformat_minor": 4
}
