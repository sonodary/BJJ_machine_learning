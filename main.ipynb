{
 "cells": [
  {
   "attachments": {},
   "cell_type": "markdown",
   "metadata": {},
   "source": [
    "# Loading and Wrangling Data"
   ]
  },
  {
   "attachments": {},
   "cell_type": "markdown",
   "metadata": {},
   "source": [
    "Loading in data using the functions that we made:"
   ]
  },
  {
   "cell_type": "code",
   "execution_count": 42,
   "metadata": {},
   "outputs": [],
   "source": [
    "oneBatch = True"
   ]
  },
  {
   "cell_type": "code",
   "execution_count": null,
   "metadata": {},
   "outputs": [],
   "source": [
    "# Run if you want one batch\n",
    "import data_loading as dt\n",
    "import os\n",
    "\n",
    "\n",
    "if oneBatch:\n",
    "    batchNum = 1\n",
    "    if os.path.exists(f'batch{batchNum}/part_{batchNum}/'):\n",
    "        ids, images = dt.importImages(f'batch{batchNum}/part_{batchNum}/')\n",
    "    else:\n",
    "        ids, images = dt.loadImageBatch(batchNum)\n",
    "else:\n",
    "    batchNums = list(range(1,13))\n",
    "    ids, images = dt.loadImageBatches(batchNums)"
   ]
  },
  {
   "attachments": {},
   "cell_type": "markdown",
   "metadata": {},
   "source": [
    "Getting annotations and getting them into the correct order:"
   ]
  },
  {
   "cell_type": "code",
   "execution_count": null,
   "metadata": {},
   "outputs": [],
   "source": [
    "import pandas as pd\n",
    "annotations = pd.read_csv(\"data/annotations.csv\")\n",
    "annotations.head()"
   ]
  },
  {
   "cell_type": "code",
   "execution_count": null,
   "metadata": {},
   "outputs": [],
   "source": [
    "position_maps= {\"standing\": 0, \n",
    "                \"takedown1\": 1,\n",
    "                \"takedown2\": 2,\n",
    "                \"open_guard1\": 3,\n",
    "                \"open_guard2\": 4,\n",
    "                \"half_guard1\": 5,\n",
    "                \"half_guard2\": 6,\n",
    "                \"closed_guard1\": 7,\n",
    "                \"closed_guard2\": 8,\n",
    "                \"5050_guard\": 9,\n",
    "                \"mount1\": 10,\n",
    "                \"mount2\": 11,\n",
    "                \"back1\": 12,\n",
    "                \"back2\": 13,\n",
    "                \"turtle1\": 14,\n",
    "                \"turtle2\": 15,               \n",
    "                \"side_control1\" : 16,\n",
    "                \"side_control2\" : 17}\n",
    "\n",
    "\n",
    "labels = []\n",
    "for id in ids:\n",
    "    labels.append(position_maps[annotations[annotations['image'] == id]['position'].reset_index(drop=True)[0]])"
   ]
  },
  {
   "cell_type": "code",
   "execution_count": null,
   "metadata": {},
   "outputs": [],
   "source": [
    "labels[0:20]"
   ]
  },
  {
   "attachments": {},
   "cell_type": "markdown",
   "metadata": {},
   "source": [
    "Converting images to tensors:"
   ]
  },
  {
   "cell_type": "code",
   "execution_count": null,
   "metadata": {},
   "outputs": [],
   "source": [
    "import torch\n",
    "import numpy as np\n",
    "\n",
    "# Converting into torch tensors\n",
    "for i, img in enumerate(images):\n",
    "    images[i] = torch.from_numpy(np.array(img))"
   ]
  },
  {
   "attachments": {},
   "cell_type": "markdown",
   "metadata": {},
   "source": [
    "# Convolutional Neural Net"
   ]
  },
  {
   "attachments": {},
   "cell_type": "markdown",
   "metadata": {},
   "source": [
    "## Creating Neural Net"
   ]
  },
  {
   "cell_type": "code",
   "execution_count": null,
   "metadata": {},
   "outputs": [],
   "source": [
    "# Data argumentation\n",
    "from torchvision import transforms\n",
    "data_transforms = transforms.Compose([\n",
    "        transforms.GaussianBlur(kernel_size=(3,3), sigma=(0.1, 5)),\n",
    "        transforms.RandomHorizontalFlip(),\n",
    "        transforms.RandomRotation(degrees=(0, 180))\n",
    "])\n",
    "\n",
    "# CNN\n",
    "from torch import nn\n",
    "import torchvision\n",
    "class my_net(nn.Module):\n",
    "    \n",
    "    ## Constructor commands\n",
    "    def __init__(self):\n",
    "        super(my_net, self).__init__()\n",
    "        \n",
    "        ## Define architecture\n",
    "        self.conv_stack = nn.Sequential(\n",
    "            nn.Conv2d(3,8,3,1),\n",
    "            nn.ReLU(),\n",
    "            nn.MaxPool2d(2,2),\n",
    "            nn.Conv2d(8,16,2,1),\n",
    "            nn.ReLU(),\n",
    "            nn.MaxPool2d(2,2),\n",
    "            nn.Flatten(),\n",
    "            nn.Linear(3600, 200),\n",
    "            nn.ReLU(),\n",
    "            nn.Linear(200, 18)\n",
    "        )\n",
    "    \n",
    "    ## Function to generate predictions\n",
    "    def forward(self, x):\n",
    "        scores = self.conv_stack(x)\n",
    "        return scores\n",
    "\n",
    "\n",
    "# Transfer Learning\n",
    "regnet_weights = torchvision.models.RegNet_X_800MF_Weights.IMAGENET1K_V1\n",
    "regnet_model = torchvision.models.efficientnet_b0(weights = regnet_weights)\n",
    "regnet_model.classifier = torch.nn.Sequential( \n",
    "    torch.nn.Linear(in_features=1280, out_features=18, bias=True))\n",
    "torch.manual_seed(7) # For reproduction purposes (should be minor since only the last layers are randomly intialized)\n",
    "net = regnet_model\n",
    "lrate = 0.001\n",
    "optimizer = torch.optim.Adam(net.parameters(), lr=lrate)\n",
    "for param in net.features.parameters():\n",
    "    param.requires_grad = True"
   ]
  },
  {
   "attachments": {},
   "cell_type": "markdown",
   "metadata": {},
   "source": [
    "## Training Neural Net"
   ]
  },
  {
   "attachments": {},
   "cell_type": "markdown",
   "metadata": {},
   "source": [
    "Train-test split:"
   ]
  },
  {
   "cell_type": "code",
   "execution_count": null,
   "metadata": {},
   "outputs": [],
   "source": [
    "from sklearn.model_selection import train_test_split\n",
    "train_X, test_X, train_y, test_y = train_test_split(\n",
    "    images, labels, test_size=0.25, random_state=42)\n",
    "\n",
    "train_X = torch.from_numpy(train_X)\n",
    "train_X = torch.movedim(train_X, source=3, destination=1)\n",
    "\n",
    "test_X = torch.from_numpy(test_X)\n",
    "test_X = torch.movedim(test_X, source=3, destination=1)"
   ]
  },
  {
   "cell_type": "code",
   "execution_count": 33,
   "metadata": {},
   "outputs": [],
   "source": [
    "## Hyperparms\n",
    "epochs = 300\n",
    "lrate = 0.001\n",
    "bsize = 28\n",
    "\n",
    "## For reproduction purposes \n",
    "torch.manual_seed(3)\n",
    "\n",
    "## Cost Function\n",
    "cost_fn = nn.CrossEntropyLoss()\n",
    "\n",
    "## Intialize the model\n",
    "net = my_net()\n",
    "\n",
    "## Optimizer (Stochastic Gradient Descent)\n",
    "optimizer = torch.optim.SGD(net.parameters(), lr=lrate)\n",
    "\n",
    "## Make DataLoader\n",
    "from torch.utils.data import DataLoader, TensorDataset\n",
    "y_tensor = torch.Tensor(train_y)\n",
    "train_loader = DataLoader(TensorDataset(train_X[0:999].type(torch.FloatTensor), \n",
    "                        y_tensor[0:999].type(torch.LongTensor)), batch_size=bsize)\n",
    "\n",
    "## Re-run the training loop, notice the new data_transforms() command\n",
    "track_cost = np.zeros(epochs)\n",
    "cur_cost = 0.0\n",
    "\n",
    "for epoch in range(epochs):\n",
    "    cur_cost = 0.0\n",
    "    correct = 0.0\n",
    "    \n",
    "    for i, data in enumerate(train_loader, 0):\n",
    "        inputs, labels = data\n",
    "        \n",
    "        ## Transform the input data using our data augmentation strategies\n",
    "        inputs = data_transforms(inputs)\n",
    "        \n",
    "        ## Same as before\n",
    "        optimizer.zero_grad()\n",
    "        outputs = net(inputs)\n",
    "        cost = cost_fn(nn.Softmax(dim=1)(outputs), labels)\n",
    "        cost.backward()\n",
    "        optimizer.step()\n",
    "        cur_cost += cost.item()\n",
    "    \n",
    "    ## Store the accumulated cost at each epoch\n",
    "    track_cost[epoch] = cur_cost\n",
    "#     print(f\"Epoch: {epoch} Cost: {cur_cost}\") ## Uncomment this if you want printed updates\n",
    "    \n",
    "    "
   ]
  },
  {
   "attachments": {},
   "cell_type": "markdown",
   "metadata": {},
   "source": [
    "Calculating training accuracy:"
   ]
  },
  {
   "cell_type": "code",
   "execution_count": 34,
   "metadata": {},
   "outputs": [
    {
     "name": "stdout",
     "output_type": "stream",
     "text": [
      "Training Accuracy is 0.22722722722722724\n"
     ]
    }
   ],
   "source": [
    "## Initialize objects for counting correct/total \n",
    "correct = 0\n",
    "total = 0\n",
    "\n",
    "# Specify no changes to the gradient in the subsequent steps (since we're not using these data for training)\n",
    "with torch.no_grad():\n",
    "    for data in train_loader:\n",
    "        # Current batch of data\n",
    "        images, labels = data\n",
    "        \n",
    "        # pass each batch into the network\n",
    "        outputs = net(images)\n",
    "        \n",
    "        # the class with the maximum score is what we choose as prediction\n",
    "        _, predicted = torch.max(outputs.data, 1)\n",
    "        \n",
    "        # add size of the current batch\n",
    "        total += labels.size(0)\n",
    "        \n",
    "        # add the number of correct predictions in the current batch\n",
    "        correct += (predicted == labels).sum().item()\n",
    "\n",
    "## Calculate and print the proportion correct\n",
    "print(f\"Training Accuracy is {correct/total}\")"
   ]
  },
  {
   "attachments": {},
   "cell_type": "markdown",
   "metadata": {},
   "source": [
    "Calculating testing accuracy:"
   ]
  },
  {
   "cell_type": "code",
   "execution_count": 35,
   "metadata": {},
   "outputs": [
    {
     "name": "stdout",
     "output_type": "stream",
     "text": [
      "Test Accuracy is 0.23583399840383082\n"
     ]
    }
   ],
   "source": [
    "\n",
    "## Combine X and y tensors into a TensorDataset and DataLoader\n",
    "test_loader = DataLoader(TensorDataset(test_X.type(torch.FloatTensor), \n",
    "                        torch.Tensor(test_y).type(torch.LongTensor)), batch_size=bsize)\n",
    "\n",
    "## Initialize objects for counting correct/total \n",
    "correct = 0\n",
    "total = 0\n",
    "\n",
    "# Specify no changes to the gradient in the subsequent steps (since we're not using these data for training)\n",
    "with torch.no_grad():\n",
    "    for data in test_loader:\n",
    "        # Current batch of data\n",
    "        images, labels = data\n",
    "        \n",
    "        # pass each batch into the network\n",
    "        outputs = net(images)\n",
    "        \n",
    "        # the class with the maximum score is what we choose as prediction\n",
    "        _, predicted = torch.max(outputs.data, 1)\n",
    "        \n",
    "        # add size of the current batch\n",
    "        total += labels.size(0)\n",
    "        \n",
    "        # add the number of correct predictions in the current batch\n",
    "        correct += (predicted == labels).sum().item()\n",
    "\n",
    "## Calculate and print the proportion correct\n",
    "print(f\"Test Accuracy is {correct/total}\")"
   ]
  },
  {
   "cell_type": "code",
   "execution_count": 36,
   "metadata": {},
   "outputs": [
    {
     "data": {
      "image/png": "[encoded data removed]",
      "text/plain": [
       "<Figure size 640x480 with 1 Axes>"
      ]
     },
     "metadata": {},
     "output_type": "display_data"
    }
   ],
   "source": [
    "# verifying the convergence of cost\n",
    "import matplotlib.pyplot as plt\n",
    "plt.plot(np.linspace(0, epochs, epochs), track_cost)\n",
    "plt.show()"
   ]
  }
 ],
 "metadata": {
  "kernelspec": {
   "display_name": "Python 3 (ipykernel)",
   "language": "python",
   "name": "python3"
  },
  "language_info": {
   "codemirror_mode": {
    "name": "ipython",
    "version": 3
   },
   "file_extension": ".py",
   "mimetype": "text/x-python",
   "name": "python",
   "nbconvert_exporter": "python",
   "pygments_lexer": "ipython3",
   "version": "3.11.2"
  }
 },
 "nbformat": 4,
 "nbformat_minor": 2
}
