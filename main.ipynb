{
 "cells": [
  {
   "cell_type": "code",
   "execution_count": null,
   "metadata": {},
   "outputs": [],
   "source": [
    "# Read the data file\n",
    "import torch\n",
    "import torchvision\n",
    "import numpy as np\n",
    "\n",
    "### Read flattened, processed data\n",
    "import pandas as pd\n",
    "annotation = pd.read_csv(\"data/annotations.csv\")\n",
    "\n",
    "## Train-test split\n",
    "from sklearn.model_selection import train_test_split\n",
    "# train_fash, test_fash = train_test_split(fash_mnist, test_size=0.1, random_state=5)\n",
    "\n",
    "### Separate the label column (outcome)\n",
    "# train_y = train_fash['y']\n",
    "# train_X = train_fash.drop(['y'], axis=1)\n",
    "# test_y = test_fash['y']\n",
    "# test_X = test_fash.drop(['y'], axis=1)\n",
    "\n",
    "### Convert to numpy array then reshape to 900 by 28 by 28\n",
    "# mnist_unflattened = train_X.to_numpy()\n",
    "# mnist_unflattened = mnist_unflattened.reshape(900,28,28)\n",
    "\n",
    "## Convert to tensor\n",
    "# mnist_tensor = torch.from_numpy(mnist_unflattened)\n",
    "\n",
    "## Check shape of the first image\n",
    "# print(mnist_tensor[0,:,:].shape)"
   ]
  },
  {
   "cell_type": "code",
   "execution_count": null,
   "metadata": {},
   "outputs": [],
   "source": []
  }
 ],
 "metadata": {
  "language_info": {
   "name": "python"
  },
  "orig_nbformat": 4
 },
 "nbformat": 4,
 "nbformat_minor": 2
}
